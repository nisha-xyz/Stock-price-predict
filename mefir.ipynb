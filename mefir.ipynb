{
 "cells": [
  {
   "cell_type": "code",
   "execution_count": null,
   "id": "81b05c86",
   "metadata": {},
   "outputs": [],
   "source": [
    "pip install -U ipykernel"
   ]
  },
  {
   "cell_type": "code",
   "execution_count": null,
   "id": "56452b11",
   "metadata": {},
   "outputs": [],
   "source": [
    "import numpy as np\n",
    "import pandas as pd"
   ]
  },
  {
   "cell_type": "code",
   "execution_count": null,
   "id": "831eaa38",
   "metadata": {},
   "outputs": [],
   "source": [
    "df_stock = pd.read_csv('/Users/nishabaichwal/Downloads/infolimpioavanzadoTarget 2.csv')\n"
   ]
  },
  {
   "cell_type": "code",
   "execution_count": null,
   "id": "d5b3367b",
   "metadata": {},
   "outputs": [],
   "source": [
    "df_stock.head()"
   ]
  },
  {
   "cell_type": "code",
   "execution_count": null,
   "id": "983b1fa5",
   "metadata": {},
   "outputs": [],
   "source": [
    "df_stock.shape"
   ]
  },
  {
   "cell_type": "code",
   "execution_count": null,
   "id": "7d9cbd40",
   "metadata": {},
   "outputs": [],
   "source": [
    "df_stock.info()"
   ]
  },
  {
   "cell_type": "code",
   "execution_count": null,
   "id": "b3309804",
   "metadata": {},
   "outputs": [],
   "source": [
    "df_stock.describe()"
   ]
  },
  {
   "cell_type": "code",
   "execution_count": null,
   "id": "6b2e642c",
   "metadata": {},
   "outputs": [],
   "source": [
    "df_stock.isnull().sum()"
   ]
  },
  {
   "cell_type": "code",
   "execution_count": null,
   "id": "7c05d6de",
   "metadata": {},
   "outputs": [],
   "source": [
    "data_new = df_stock[['date','open', 'high', 'low', 'close']]\n",
    "data_new"
   ]
  },
  {
   "cell_type": "code",
   "execution_count": null,
   "id": "738519be",
   "metadata": {},
   "outputs": [],
   "source": [
    "data_new.isnull().sum()"
   ]
  },
  {
   "cell_type": "code",
   "execution_count": null,
   "id": "7a2ea201",
   "metadata": {},
   "outputs": [],
   "source": [
    "pip install matplotlib"
   ]
  },
  {
   "cell_type": "code",
   "execution_count": null,
   "id": "4ad27243",
   "metadata": {},
   "outputs": [],
   "source": [
    "import matplotlib.pyplot as plt"
   ]
  },
  {
   "cell_type": "code",
   "execution_count": null,
   "id": "23c785c3",
   "metadata": {},
   "outputs": [],
   "source": [
    "data_new[\"tomorrow\"]= data_new[\"close\"].shift(-1)\n",
    "data_new"
   ]
  },
  {
   "cell_type": "code",
   "execution_count": null,
   "id": "a0e988bc",
   "metadata": {},
   "outputs": [],
   "source": [
    "data_new[\"target\"] = data_new[\"tomorrow\"] > data_new[\"close\"].astype(float)\n",
    "data_new"
   ]
  },
  {
   "cell_type": "code",
   "execution_count": null,
   "id": "9c687a57",
   "metadata": {},
   "outputs": [],
   "source": [
    "!pip install seaborn"
   ]
  },
  {
   "cell_type": "code",
   "execution_count": null,
   "id": "18239368",
   "metadata": {},
   "outputs": [],
   "source": [
    "pip install -U scikit-learn scipy matplotlib"
   ]
  },
  {
   "cell_type": "code",
   "execution_count": null,
   "id": "020ff184",
   "metadata": {},
   "outputs": [],
   "source": [
    "pip install -U scikit-learn scipy matplotlib"
   ]
  },
  {
   "cell_type": "code",
   "execution_count": null,
   "id": "52077131",
   "metadata": {},
   "outputs": [],
   "source": [
    "from sklearn.ensemble import RandomForestClassifier"
   ]
  },
  {
   "cell_type": "code",
   "execution_count": null,
   "id": "cd5eccc9",
   "metadata": {},
   "outputs": [],
   "source": [
    "from sklearn.ensemble import RandomForestClassifier"
   ]
  },
  {
   "cell_type": "code",
   "execution_count": null,
   "id": "a0813f7a",
   "metadata": {},
   "outputs": [],
   "source": [
    "model = RandomForestClassifier(n_estimators=300, min_samples_split= 150, random_state=1)"
   ]
  },
  {
   "cell_type": "code",
   "execution_count": null,
   "id": "e28bfcd6",
   "metadata": {},
   "outputs": [],
   "source": [
    "train = data_new.iloc[:-100]\n",
    "test = data_new.iloc[-100:]"
   ]
  },
  {
   "cell_type": "code",
   "execution_count": null,
   "id": "e6ddfedc",
   "metadata": {},
   "outputs": [],
   "source": [
    "predictors = [\"open\", \"high\", \"low\", \"close\"] #Exempt the datetime so that the model doesnt train on it. So as to prevent data leakage\n",
    "model.fit(train[predictors], train[\"target\"])"
   ]
  },
  {
   "cell_type": "code",
   "execution_count": null,
   "id": "56418868",
   "metadata": {},
   "outputs": [],
   "source": [
    "from sklearn.metrics import precision_score"
   ]
  },
  {
   "cell_type": "code",
   "execution_count": null,
   "id": "7ffcd770",
   "metadata": {},
   "outputs": [],
   "source": [
    "pred = model.predict(test[predictors])"
   ]
  },
  {
   "cell_type": "code",
   "execution_count": null,
   "id": "1e235b74",
   "metadata": {},
   "outputs": [],
   "source": [
    "pred"
   ]
  },
  {
   "cell_type": "code",
   "execution_count": null,
   "id": "713ca1c0",
   "metadata": {},
   "outputs": [],
   "source": [
    "import matplotlib.pyplot as plt\n",
    "import numpy as np"
   ]
  },
  {
   "cell_type": "code",
   "execution_count": null,
   "id": "db82173d",
   "metadata": {},
   "outputs": [],
   "source": [
    "import numpy as np\n",
    "import pandas as pd\n",
    "df_stock = pd.read_csv('/Users/nishabaichwal/Downloads/infolimpioavanzadoTarget 2.csv')\n",
    "\n"
   ]
  },
  {
   "cell_type": "code",
   "execution_count": null,
   "id": "e8f6071b",
   "metadata": {},
   "outputs": [],
   "source": [
    "import matplotlib.pyplot as plt\n",
    "\n",
    "def scatter_close_vs_open(df, close_col=\"close\", open_col=\"open\"):\n",
    "    \n",
    "    plt.figure(figsize=(8,6))\n",
    "    plt.scatter(df[open_col], df[close_col], alpha=0.7, color=\"green\", edgecolor=\"black\")\n",
    "\n",
    "    # Reference line (perfect match y = x)\n",
    "    min_val = min(df[open_col].min(), df[close_col].min())\n",
    "    max_val = max(df[open_col].max(), df[close_col].max())\n",
    "    plt.plot([min_val, max_val], [min_val, max_val], color=\"red\", linestyle=\"--\", label=\"y = x\")\n",
    "\n",
    "    plt.title(\"Closing Price vs. Opening Price\")\n",
    "    plt.xlabel(\"Opening Price\")\n",
    "    plt.ylabel(\"Closing Price\")\n",
    "    plt.legend()\n",
    "    plt.tight_layout()\n",
    "    plt.show()\n"
   ]
  },
  {
   "cell_type": "code",
   "execution_count": null,
   "id": "ba8e9ad2",
   "metadata": {},
   "outputs": [],
   "source": [
    "scatter_close_vs_open(df_stock, close_col=\"close\", open_col=\"open\")\n"
   ]
  },
  {
   "cell_type": "code",
   "execution_count": null,
   "id": "5dd0e884",
   "metadata": {},
   "outputs": [],
   "source": [
    "pred_series = pd.Series(pred) "
   ]
  },
  {
   "cell_type": "code",
   "execution_count": null,
   "id": "61ec020a",
   "metadata": {},
   "outputs": [],
   "source": [
    "counts = pred_series.value_counts().sort_index()"
   ]
  },
  {
   "cell_type": "code",
   "execution_count": null,
   "id": "c6e5280b",
   "metadata": {},
   "outputs": [],
   "source": [
    "plt.figure(figsize=(6,4))\n",
    "counts.plot(kind=\"bar\", color=[\"red\", \"green\"], alpha=0.7)"
   ]
  }
 ],
 "metadata": {
  "kernelspec": {
   "display_name": "Python 3",
   "language": "python",
   "name": "python3"
  },
  "language_info": {
   "codemirror_mode": {
    "name": "ipython",
    "version": 3
   },
   "file_extension": ".py",
   "mimetype": "text/x-python",
   "name": "python",
   "nbconvert_exporter": "python",
   "pygments_lexer": "ipython3",
   "version": "3.9.6"
  }
 },
 "nbformat": 4,
 "nbformat_minor": 5
}
